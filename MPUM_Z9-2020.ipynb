{
 "cells": [
  {
   "cell_type": "markdown",
   "metadata": {},
   "source": [
    "# Zadanie 1"
   ]
  },
  {
   "cell_type": "markdown",
   "metadata": {
    "collapsed": true
   },
   "source": [
    "Mając do dyspozycji dane dotyczące raka piersi, stwórz optymalny model objaśniająycy zmienną \"target\". \n",
    "Całą pracę rozpocznij od oddzielenia losowo wybranych  $20\\%$ danych. Następnie pracuj na pozostałych  $80\\%$  danych. \n",
    "Zdecyduj jak przygotować dane i które zmienne brać pod uwagę. Przy pomocy testowania krzyżowego znajdź najlepsze parametry. \n",
    "Na końcu sprawdź działanie modelu na wcześniej oddzielonych $20\\%$  danych."
   ]
  },
  {
   "cell_type": "code",
   "execution_count": 10,
   "metadata": {},
   "outputs": [
    {
     "name": "stdout",
     "output_type": "stream",
     "text": [
      "['malignant', 'benign']\n",
      "['mean radius', 'mean texture', 'mean perimeter', 'mean area', 'mean smoothness', 'mean compactness', 'mean concavity', 'mean concave points', 'mean symmetry', 'mean fractal dimension', 'radius error', 'texture error', 'perimeter error', 'area error', 'smoothness error', 'compactness error', 'concavity error', 'concave points error', 'symmetry error', 'fractal dimension error', 'worst radius', 'worst texture', 'worst perimeter', 'worst area', 'worst smoothness', 'worst compactness', 'worst concavity', 'worst concave points', 'worst symmetry', 'worst fractal dimension']\n",
      "(569, 30)\n"
     ]
    }
   ],
   "source": [
    "from sklearn.datasets import load_breast_cancer\n",
    "\n",
    "\n",
    "data = load_breast_cancer()\n",
    "print(list(data.target_names))\n",
    "print(list(data.feature_names))\n",
    "print((data.data).shape)\n",
    "X=data.data\n",
    "y=data.target\n",
    "\n"
   ]
  },
  {
   "cell_type": "markdown",
   "metadata": {
    "collapsed": true
   },
   "source": [
    "# Zadanie 2"
   ]
  },
  {
   "cell_type": "markdown",
   "metadata": {
    "collapsed": true
   },
   "source": [
    "Mając do dyspozycji dane dotyczące cen domów w Bostonie oraz budżet rzędu 20 tys. dolarów, \n",
    "stwórz optymalny model objaśniająycy czy proponowany dom jest w Twoim zasięgu cenowym. \n",
    "Zmienna opisująca ceny zawiera się w \"target\". \n",
    "Całą pracę rozpocznij od oddzielenia losowo wybranych  $20\\%$ danych. Następnie pracuj na pozostałych  $80\\%$  danych. \n",
    "Zdecyduj jak przygotować dane i które zmienne brać pod uwagę. Zdobądź informacje co dostępne zmienne oznaczają. \n",
    "Przy pomocy testowania krzyżowego znajdź najlepsze parametry. \n",
    "Na końcu sprawdź działanie modelu na wcześniej oddzielonych $20\\%$ danych."
   ]
  },
  {
   "cell_type": "code",
   "execution_count": 3,
   "metadata": {},
   "outputs": [],
   "source": [
    "from sklearn import datasets\n",
    "boston = datasets.load_boston()\n"
   ]
  },
  {
   "cell_type": "code",
   "execution_count": null,
   "metadata": {
    "collapsed": true
   },
   "outputs": [],
   "source": []
  }
 ],
 "metadata": {
  "kernelspec": {
   "display_name": "Python 3",
   "language": "python",
   "name": "python3"
  },
  "language_info": {
   "codemirror_mode": {
    "name": "ipython",
    "version": 3
   },
   "file_extension": ".py",
   "mimetype": "text/x-python",
   "name": "python",
   "nbconvert_exporter": "python",
   "pygments_lexer": "ipython3",
   "version": "3.6.5"
  }
 },
 "nbformat": 4,
 "nbformat_minor": 2
}
