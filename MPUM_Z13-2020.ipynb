{
 "cells": [
  {
   "cell_type": "markdown",
   "metadata": {},
   "source": [
    "# Zadanie 1"
   ]
  },
  {
   "cell_type": "markdown",
   "metadata": {
    "collapsed": true
   },
   "source": [
    "Posługując się danymi z pliku infmort stwórz modele objaśniające czy dany kraj eksportuje rope. \n",
    "Wytrenuj klasyfikacyjne sieci neuronowez jedną ukrytą warstwą zawierającą odpowiednio różne ilości ukrytych węzłów.\n",
    "Wypisz 'confusion matrix' współczynnik f1, procent udanej predykcji. Stwórz krzywą błędu uczącego oraz walidacyjnego w zależności od ilości użytych warstw. Który model jest najskuteczniejszy? Porównaj go z regresją logistyczną."
   ]
  },
  {
   "cell_type": "markdown",
   "metadata": {},
   "source": [
    "# Zadanie 2"
   ]
  },
  {
   "cell_type": "markdown",
   "metadata": {
    "collapsed": true
   },
   "source": [
    "Posługując się danymi z pliku chredlin stwórz modele objaśniające w której części Chicago znajduje się dany dom. \n",
    "Wytrenuj klasyfikacyjne sieci neuronowe z jedną ukrytą warstwą zawierającą odpowiednio różne ilości ukrytych węzłów.\n",
    "Wypisz 'confusion matrix' współczynnik f1, procent udanej predykcji.  Stwórz krzywą błędu uczącego oraz walidacyjnego w zależności od ilości użytych warstw. Który model jest najskuteczniejszy? Porównaj go z regresją logistyczną."
   ]
  },
  {
   "cell_type": "markdown",
   "metadata": {},
   "source": [
    "# Zadanie 3"
   ]
  },
  {
   "cell_type": "markdown",
   "metadata": {
    "collapsed": true
   },
   "source": [
    "Posługując się danymi z pliku wbca stwórz modele objaśniające czy dana pacjentka choruje na złośliwego raka piersi.\n",
    "Wytrenuj klasyfikacyjne sieci neuronowez jedną ukrytą warstwą zawierającą odpowiednio różne ilości ukrytych węzłów.\n",
    "Wypisz 'confusion matrix' współczynnik f1, procent udanej predykcji. Który model jest najskuteczniejszy? Porównaj go z regresją logistyczną."
   ]
  },
  {
   "cell_type": "markdown",
   "metadata": {},
   "source": [
    "# Zadanie 4"
   ]
  },
  {
   "cell_type": "markdown",
   "metadata": {},
   "source": [
    "Korzystając ze znanych danych dotyczących Titanica stwórz najlepszy model w oparciu o obecną wiedzę."
   ]
  },
  {
   "cell_type": "code",
   "execution_count": null,
   "metadata": {},
   "outputs": [],
   "source": []
  }
 ],
 "metadata": {
  "kernelspec": {
   "display_name": "Python 3",
   "language": "python",
   "name": "python3"
  },
  "language_info": {
   "codemirror_mode": {
    "name": "ipython",
    "version": 3
   },
   "file_extension": ".py",
   "mimetype": "text/x-python",
   "name": "python",
   "nbconvert_exporter": "python",
   "pygments_lexer": "ipython3",
   "version": "3.6.5"
  }
 },
 "nbformat": 4,
 "nbformat_minor": 2
}
