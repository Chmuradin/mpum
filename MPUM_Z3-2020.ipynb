{
 "cells": [
  {
   "cell_type": "markdown",
   "metadata": {},
   "source": [
    "# Zadanie 1"
   ]
  },
  {
   "cell_type": "markdown",
   "metadata": {
    "collapsed": true
   },
   "source": [
    "Wczytaj dane z pliku dab.csv oraz wyznacz równanie regresji obajśniającej wiek drzewa. Znajdź współczynniki regresji rozwiązując równanie normalne  $X^TX=X^Ty$ (np. funkcją solve z numpy.linalg) . Wcześniej odpowiednio przygotuj dane do pracy. Wyniki zilustruj odpowiednim rysunkiem.\n",
    "\n"
   ]
  },
  {
   "cell_type": "code",
   "execution_count": null,
   "metadata": {},
   "outputs": [],
   "source": []
  },
  {
   "cell_type": "markdown",
   "metadata": {},
   "source": [
    "Wiele modeli uczenia maszynowego można znaleźć w bibliotece $\\verb+sklearn+ $.\n",
    "W szczeolności regresję liniową można trenować przy użyciu funkcji $\\texttt{LinearRegression()}$ z podbiblioteki $\\verb+sklearn.linear_model+$."
   ]
  },
  {
   "cell_type": "code",
   "execution_count": 6,
   "metadata": {},
   "outputs": [
    {
     "ename": "NameError",
     "evalue": "name 'X_train' is not defined",
     "output_type": "error",
     "traceback": [
      "\u001b[1;31m---------------------------------------------------------------------------\u001b[0m",
      "\u001b[1;31mNameError\u001b[0m                                 Traceback (most recent call last)",
      "\u001b[1;32m<ipython-input-6-160df525dbe3>\u001b[0m in \u001b[0;36m<module>\u001b[1;34m()\u001b[0m\n\u001b[0;32m      1\u001b[0m \u001b[1;32mfrom\u001b[0m \u001b[0msklearn\u001b[0m\u001b[1;33m.\u001b[0m\u001b[0mlinear_model\u001b[0m \u001b[1;32mimport\u001b[0m \u001b[0mLinearRegression\u001b[0m\u001b[1;33m\u001b[0m\u001b[0m\n\u001b[0;32m      2\u001b[0m \u001b[0mmodel\u001b[0m \u001b[1;33m=\u001b[0m \u001b[0mLinearRegression\u001b[0m\u001b[1;33m(\u001b[0m\u001b[1;33m)\u001b[0m\u001b[1;33m\u001b[0m\u001b[0m\n\u001b[1;32m----> 3\u001b[1;33m \u001b[0mmodel\u001b[0m\u001b[1;33m.\u001b[0m\u001b[0mfit\u001b[0m\u001b[1;33m(\u001b[0m\u001b[0mX_train\u001b[0m\u001b[1;33m,\u001b[0m\u001b[0my_train\u001b[0m\u001b[1;33m)\u001b[0m\u001b[1;33m\u001b[0m\u001b[0m\n\u001b[0m\u001b[0;32m      4\u001b[0m \u001b[0my_pred\u001b[0m \u001b[1;33m=\u001b[0m \u001b[0mmodel\u001b[0m\u001b[1;33m.\u001b[0m\u001b[0mpredict\u001b[0m\u001b[1;33m(\u001b[0m\u001b[0mX_test\u001b[0m\u001b[1;33m)\u001b[0m\u001b[1;33m\u001b[0m\u001b[0m\n",
      "\u001b[1;31mNameError\u001b[0m: name 'X_train' is not defined"
     ]
    }
   ],
   "source": [
    "from sklearn.linear_model import LinearRegression\n",
    "model = LinearRegression()\n",
    "model.fit(X_train,y_train)\n",
    "y_pred = model.predict(X_test)"
   ]
  },
  {
   "cell_type": "markdown",
   "metadata": {},
   "source": [
    "# Zadanie 2"
   ]
  },
  {
   "cell_type": "markdown",
   "metadata": {},
   "source": [
    "Proszę wprowadzić sztuczne dane ($x_i,y_i$, dla $n=1000$) będące zaburzeniem losowym funkcji $x^2$ na odcinku $[-1,1]$ (czyli $y_i-x_i^2$ są próbą losową o średniej $0$). \n",
    "Następnie proszę podzielić zbiór danych na pół zgodnie z porządkiem ($x_i$; może być też względem $0$) oraz wytrenować regresję liniową (bez transformacjizmiennych) używając pierwszej części danych. \n",
    "Proszę podać współczynniki modelu.\n",
    "Proszę obliczyć średni błąd ($\\frac{\\sum_{i=1}^{n/2}(\\hat{y_i}-y_i)^2}{n/2}$) wartości dopasowanych dla danych treningowych (pierwszej części) oraz testowych (druga część).\n"
   ]
  },
  {
   "cell_type": "code",
   "execution_count": null,
   "metadata": {},
   "outputs": [],
   "source": []
  },
  {
   "cell_type": "markdown",
   "metadata": {},
   "source": [
    "Biblioteka $\\texttt{sklearn}$ zapewnia również funkcję do automatycznego dzielenia zbioru dancyh train_test_split.\n",
    "Natomiast funkcja $\\texttt{r2_score}$ ($\\texttt{sklearn.metrics}$) zapewnia możliwość obliczenia $R^2$. "
   ]
  },
  {
   "cell_type": "markdown",
   "metadata": {},
   "source": [
    "# Zadanie 3"
   ]
  },
  {
   "cell_type": "markdown",
   "metadata": {},
   "source": [
    "Proszę użyć powyższej funkcji i przy jej pomocy dokonać podziału zbiorów danych z Zadania 2 oraz (powtórzyć resztę zadania).\n",
    "Oblicz $R^2$ dla dopasowania modelu w tym zadaniu oraz w poprzednim."
   ]
  },
  {
   "cell_type": "code",
   "execution_count": null,
   "metadata": {},
   "outputs": [],
   "source": []
  },
  {
   "cell_type": "markdown",
   "metadata": {},
   "source": [
    "# Zadanie 4"
   ]
  },
  {
   "cell_type": "code",
   "execution_count": null,
   "metadata": {},
   "outputs": [],
   "source": [
    "Dla modeli z zadania 1 i 2 oblicz średni błąd kwadratowy (mean_squared_error) oraz średni błąd bezwzględny (mean_absolute_error).\n",
    "Następnie narysuj histogram błędów.\n"
   ]
  },
  {
   "cell_type": "markdown",
   "metadata": {},
   "source": [
    "# Zadanie 5"
   ]
  },
  {
   "cell_type": "markdown",
   "metadata": {},
   "source": [
    "Do danych z zadania 2, dopasuj lepszy model (użyj transformacji zmiennych np. $\\texttt{PolynomialFeatures}$, zrób to ponownie dzieląc zbiór danych na dwie części). \n",
    "Następnie wypisz współczynniki, oblicz $R^2$ oraz średni błąd kwadratowy na obydwy częściach."
   ]
  },
  {
   "cell_type": "markdown",
   "metadata": {},
   "source": [
    "# Testowanie krzyżowe"
   ]
  },
  {
   "cell_type": "code",
   "execution_count": 9,
   "metadata": {},
   "outputs": [],
   "source": [
    "from sklearn.model_selection import cross_val_score"
   ]
  },
  {
   "cell_type": "markdown",
   "metadata": {},
   "source": [
    "# Zadanie 6"
   ]
  },
  {
   "cell_type": "markdown",
   "metadata": {},
   "source": [
    "Wykonaj testowanie krzyżowe $\\texttt{cross_val_score}$ dla modeli z zadania 2 oraz 5."
   ]
  },
  {
   "cell_type": "code",
   "execution_count": null,
   "metadata": {},
   "outputs": [],
   "source": []
  }
 ],
 "metadata": {
  "kernelspec": {
   "display_name": "Python 3",
   "language": "python",
   "name": "python3"
  },
  "language_info": {
   "codemirror_mode": {
    "name": "ipython",
    "version": 3
   },
   "file_extension": ".py",
   "mimetype": "text/x-python",
   "name": "python",
   "nbconvert_exporter": "python",
   "pygments_lexer": "ipython3",
   "version": "3.6.5"
  }
 },
 "nbformat": 4,
 "nbformat_minor": 2
}
